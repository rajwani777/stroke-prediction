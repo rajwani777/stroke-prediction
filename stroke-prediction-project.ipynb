{
 "cells": [
  {
   "cell_type": "code",
   "execution_count": 1,
   "id": "8d819376",
   "metadata": {
    "execution": {
     "iopub.execute_input": "2022-05-13T08:46:43.853480Z",
     "iopub.status.busy": "2022-05-13T08:46:43.853154Z",
     "iopub.status.idle": "2022-05-13T08:46:45.000333Z",
     "shell.execute_reply": "2022-05-13T08:46:44.999482Z"
    },
    "papermill": {
     "duration": 1.200552,
     "end_time": "2022-05-13T08:46:45.003291",
     "exception": false,
     "start_time": "2022-05-13T08:46:43.802739",
     "status": "completed"
    },
    "tags": []
   },
   "outputs": [],
   "source": [
    "import pandas as pd\n",
    "import numpy as np\n",
    "import matplotlib.pyplot as plt\n",
    "import seaborn as sns\n"
   ]
  },
  {
   "cell_type": "code",
   "execution_count": 2,
   "id": "efc30e8e",
   "metadata": {
    "execution": {
     "iopub.execute_input": "2022-05-13T08:46:45.102668Z",
     "iopub.status.busy": "2022-05-13T08:46:45.102111Z",
     "iopub.status.idle": "2022-05-13T08:46:45.282093Z",
     "shell.execute_reply": "2022-05-13T08:46:45.281408Z"
    },
    "papermill": {
     "duration": 0.231678,
     "end_time": "2022-05-13T08:46:45.284440",
     "exception": false,
     "start_time": "2022-05-13T08:46:45.052762",
     "status": "completed"
    },
    "tags": []
   },
   "outputs": [
    {
     "data": {
      "text/html": [
       "<div>\n",
       "<style scoped>\n",
       "    .dataframe tbody tr th:only-of-type {\n",
       "        vertical-align: middle;\n",
       "    }\n",
       "\n",
       "    .dataframe tbody tr th {\n",
       "        vertical-align: top;\n",
       "    }\n",
       "\n",
       "    .dataframe thead th {\n",
       "        text-align: right;\n",
       "    }\n",
       "</style>\n",
       "<table border=\"1\" class=\"dataframe\">\n",
       "  <thead>\n",
       "    <tr style=\"text-align: right;\">\n",
       "      <th></th>\n",
       "      <th>id</th>\n",
       "      <th>gender</th>\n",
       "      <th>age</th>\n",
       "      <th>hypertension</th>\n",
       "      <th>heart_disease</th>\n",
       "      <th>ever_married</th>\n",
       "      <th>work_type</th>\n",
       "      <th>Residence_type</th>\n",
       "      <th>avg_glucose_level</th>\n",
       "      <th>bmi</th>\n",
       "      <th>smoking_status</th>\n",
       "      <th>stroke</th>\n",
       "    </tr>\n",
       "  </thead>\n",
       "  <tbody>\n",
       "    <tr>\n",
       "      <th>0</th>\n",
       "      <td>30669</td>\n",
       "      <td>Male</td>\n",
       "      <td>3.0</td>\n",
       "      <td>0</td>\n",
       "      <td>0</td>\n",
       "      <td>No</td>\n",
       "      <td>children</td>\n",
       "      <td>Rural</td>\n",
       "      <td>95.12</td>\n",
       "      <td>18.0</td>\n",
       "      <td>NaN</td>\n",
       "      <td>0</td>\n",
       "    </tr>\n",
       "    <tr>\n",
       "      <th>1</th>\n",
       "      <td>30468</td>\n",
       "      <td>Male</td>\n",
       "      <td>58.0</td>\n",
       "      <td>1</td>\n",
       "      <td>0</td>\n",
       "      <td>Yes</td>\n",
       "      <td>Private</td>\n",
       "      <td>Urban</td>\n",
       "      <td>87.96</td>\n",
       "      <td>39.2</td>\n",
       "      <td>never smoked</td>\n",
       "      <td>0</td>\n",
       "    </tr>\n",
       "    <tr>\n",
       "      <th>2</th>\n",
       "      <td>16523</td>\n",
       "      <td>Female</td>\n",
       "      <td>8.0</td>\n",
       "      <td>0</td>\n",
       "      <td>0</td>\n",
       "      <td>No</td>\n",
       "      <td>Private</td>\n",
       "      <td>Urban</td>\n",
       "      <td>110.89</td>\n",
       "      <td>17.6</td>\n",
       "      <td>NaN</td>\n",
       "      <td>0</td>\n",
       "    </tr>\n",
       "    <tr>\n",
       "      <th>3</th>\n",
       "      <td>56543</td>\n",
       "      <td>Female</td>\n",
       "      <td>70.0</td>\n",
       "      <td>0</td>\n",
       "      <td>0</td>\n",
       "      <td>Yes</td>\n",
       "      <td>Private</td>\n",
       "      <td>Rural</td>\n",
       "      <td>69.04</td>\n",
       "      <td>35.9</td>\n",
       "      <td>formerly smoked</td>\n",
       "      <td>0</td>\n",
       "    </tr>\n",
       "    <tr>\n",
       "      <th>4</th>\n",
       "      <td>46136</td>\n",
       "      <td>Male</td>\n",
       "      <td>14.0</td>\n",
       "      <td>0</td>\n",
       "      <td>0</td>\n",
       "      <td>No</td>\n",
       "      <td>Never_worked</td>\n",
       "      <td>Rural</td>\n",
       "      <td>161.28</td>\n",
       "      <td>19.1</td>\n",
       "      <td>NaN</td>\n",
       "      <td>0</td>\n",
       "    </tr>\n",
       "  </tbody>\n",
       "</table>\n",
       "</div>"
      ],
      "text/plain": [
       "      id  gender   age  hypertension  heart_disease ever_married  \\\n",
       "0  30669    Male   3.0             0              0           No   \n",
       "1  30468    Male  58.0             1              0          Yes   \n",
       "2  16523  Female   8.0             0              0           No   \n",
       "3  56543  Female  70.0             0              0          Yes   \n",
       "4  46136    Male  14.0             0              0           No   \n",
       "\n",
       "      work_type Residence_type  avg_glucose_level   bmi   smoking_status  \\\n",
       "0      children          Rural              95.12  18.0              NaN   \n",
       "1       Private          Urban              87.96  39.2     never smoked   \n",
       "2       Private          Urban             110.89  17.6              NaN   \n",
       "3       Private          Rural              69.04  35.9  formerly smoked   \n",
       "4  Never_worked          Rural             161.28  19.1              NaN   \n",
       "\n",
       "   stroke  \n",
       "0       0  \n",
       "1       0  \n",
       "2       0  \n",
       "3       0  \n",
       "4       0  "
      ]
     },
     "execution_count": 2,
     "metadata": {},
     "output_type": "execute_result"
    }
   ],
   "source": [
    "data_test = pd.read_csv('../input/stroke-prediction/test_2v.csv')\n",
    "data_train = pd.read_csv('../input/stroke-prediction/train_2v.csv')\n",
    "data_train.head()"
   ]
  },
  {
   "cell_type": "code",
   "execution_count": 3,
   "id": "6e4cb798",
   "metadata": {
    "execution": {
     "iopub.execute_input": "2022-05-13T08:46:45.385101Z",
     "iopub.status.busy": "2022-05-13T08:46:45.384505Z",
     "iopub.status.idle": "2022-05-13T08:46:45.415746Z",
     "shell.execute_reply": "2022-05-13T08:46:45.415083Z"
    },
    "papermill": {
     "duration": 0.082244,
     "end_time": "2022-05-13T08:46:45.417634",
     "exception": false,
     "start_time": "2022-05-13T08:46:45.335390",
     "status": "completed"
    },
    "tags": []
   },
   "outputs": [
    {
     "data": {
      "text/plain": [
       "id                       0\n",
       "gender                   0\n",
       "age                      0\n",
       "hypertension             0\n",
       "heart_disease            0\n",
       "ever_married             0\n",
       "work_type                0\n",
       "Residence_type           0\n",
       "avg_glucose_level        0\n",
       "bmi                   1462\n",
       "smoking_status       13292\n",
       "stroke                   0\n",
       "dtype: int64"
      ]
     },
     "execution_count": 3,
     "metadata": {},
     "output_type": "execute_result"
    }
   ],
   "source": [
    "data_train.isnull().sum()"
   ]
  },
  {
   "cell_type": "code",
   "execution_count": 4,
   "id": "6df715af",
   "metadata": {
    "execution": {
     "iopub.execute_input": "2022-05-13T08:46:45.518769Z",
     "iopub.status.busy": "2022-05-13T08:46:45.518223Z",
     "iopub.status.idle": "2022-05-13T08:46:45.566311Z",
     "shell.execute_reply": "2022-05-13T08:46:45.565608Z"
    },
    "papermill": {
     "duration": 0.102233,
     "end_time": "2022-05-13T08:46:45.569376",
     "exception": false,
     "start_time": "2022-05-13T08:46:45.467143",
     "status": "completed"
    },
    "tags": []
   },
   "outputs": [
    {
     "name": "stdout",
     "output_type": "stream",
     "text": [
      "<class 'pandas.core.frame.DataFrame'>\n",
      "RangeIndex: 43400 entries, 0 to 43399\n",
      "Data columns (total 12 columns):\n",
      " #   Column             Non-Null Count  Dtype  \n",
      "---  ------             --------------  -----  \n",
      " 0   id                 43400 non-null  int64  \n",
      " 1   gender             43400 non-null  object \n",
      " 2   age                43400 non-null  float64\n",
      " 3   hypertension       43400 non-null  int64  \n",
      " 4   heart_disease      43400 non-null  int64  \n",
      " 5   ever_married       43400 non-null  object \n",
      " 6   work_type          43400 non-null  object \n",
      " 7   Residence_type     43400 non-null  object \n",
      " 8   avg_glucose_level  43400 non-null  float64\n",
      " 9   bmi                41938 non-null  float64\n",
      " 10  smoking_status     30108 non-null  object \n",
      " 11  stroke             43400 non-null  int64  \n",
      "dtypes: float64(3), int64(4), object(5)\n",
      "memory usage: 4.0+ MB\n"
     ]
    }
   ],
   "source": [
    "data_train.info()"
   ]
  },
  {
   "cell_type": "markdown",
   "id": "f53f2002",
   "metadata": {
    "papermill": {
     "duration": 0.048433,
     "end_time": "2022-05-13T08:46:45.667444",
     "exception": false,
     "start_time": "2022-05-13T08:46:45.619011",
     "status": "completed"
    },
    "tags": []
   },
   "source": [
    "so we have two columns with missing values only bmi and smoking status"
   ]
  },
  {
   "cell_type": "code",
   "execution_count": 5,
   "id": "83c332e8",
   "metadata": {
    "execution": {
     "iopub.execute_input": "2022-05-13T08:46:45.766152Z",
     "iopub.status.busy": "2022-05-13T08:46:45.765652Z",
     "iopub.status.idle": "2022-05-13T08:46:45.799871Z",
     "shell.execute_reply": "2022-05-13T08:46:45.799280Z"
    },
    "papermill": {
     "duration": 0.085982,
     "end_time": "2022-05-13T08:46:45.801858",
     "exception": false,
     "start_time": "2022-05-13T08:46:45.715876",
     "status": "completed"
    },
    "tags": []
   },
   "outputs": [
    {
     "data": {
      "text/plain": [
       "id                       0\n",
       "gender                   0\n",
       "age                      0\n",
       "hypertension             0\n",
       "heart_disease            0\n",
       "ever_married             0\n",
       "work_type                0\n",
       "Residence_type           0\n",
       "avg_glucose_level        0\n",
       "bmi                      0\n",
       "smoking_status       13292\n",
       "stroke                   0\n",
       "dtype: int64"
      ]
     },
     "execution_count": 5,
     "metadata": {},
     "output_type": "execute_result"
    }
   ],
   "source": [
    "data_train['bmi'] = data_train['bmi'].fillna(data_train['bmi'].mean())\n",
    "data_test['bmi'] = data_test['bmi'].fillna(data_test['bmi'].mean())\n",
    "data_train.isnull().sum()"
   ]
  },
  {
   "cell_type": "code",
   "execution_count": 6,
   "id": "de8cc399",
   "metadata": {
    "execution": {
     "iopub.execute_input": "2022-05-13T08:46:45.901839Z",
     "iopub.status.busy": "2022-05-13T08:46:45.901558Z",
     "iopub.status.idle": "2022-05-13T08:46:45.909493Z",
     "shell.execute_reply": "2022-05-13T08:46:45.908662Z"
    },
    "papermill": {
     "duration": 0.060592,
     "end_time": "2022-05-13T08:46:45.911667",
     "exception": false,
     "start_time": "2022-05-13T08:46:45.851075",
     "status": "completed"
    },
    "tags": []
   },
   "outputs": [
    {
     "data": {
      "text/plain": [
       "(0                NaN\n",
       " 1       never smoked\n",
       " 2                NaN\n",
       " 3    formerly smoked\n",
       " 4                NaN\n",
       " 5                NaN\n",
       " 6    formerly smoked\n",
       " 7       never smoked\n",
       " 8             smokes\n",
       " 9       never smoked\n",
       " Name: smoking_status, dtype: object,\n",
       " 0     3.0\n",
       " 1    58.0\n",
       " 2     8.0\n",
       " 3    70.0\n",
       " 4    14.0\n",
       " 5    47.0\n",
       " 6    52.0\n",
       " 7    75.0\n",
       " 8    32.0\n",
       " 9    74.0\n",
       " Name: age, dtype: float64)"
      ]
     },
     "execution_count": 6,
     "metadata": {},
     "output_type": "execute_result"
    }
   ],
   "source": [
    "#now left with the smoking status \n",
    "#first check how many people are  below 18 \n",
    "data_train['smoking_status'][:10],data_train['age'][:10]"
   ]
  },
  {
   "cell_type": "code",
   "execution_count": 7,
   "id": "c99303bd",
   "metadata": {
    "execution": {
     "iopub.execute_input": "2022-05-13T08:46:46.013115Z",
     "iopub.status.busy": "2022-05-13T08:46:46.012825Z",
     "iopub.status.idle": "2022-05-13T08:46:46.829849Z",
     "shell.execute_reply": "2022-05-13T08:46:46.828909Z"
    },
    "papermill": {
     "duration": 0.870495,
     "end_time": "2022-05-13T08:46:46.832540",
     "exception": false,
     "start_time": "2022-05-13T08:46:45.962045",
     "status": "completed"
    },
    "tags": []
   },
   "outputs": [
    {
     "data": {
      "text/plain": [
       "<AxesSubplot:>"
      ]
     },
     "execution_count": 7,
     "metadata": {},
     "output_type": "execute_result"
    },
    {
     "data": {
      "image/png": "[encoded data removed]",
      "text/plain": [
       "<Figure size 1800x720 with 2 Axes>"
      ]
     },
     "metadata": {
      "needs_background": "light"
     },
     "output_type": "display_data"
    }
   ],
   "source": [
    "import missingno as ms \n",
    "ms.matrix(data_train)"
   ]
  },
  {
   "cell_type": "code",
   "execution_count": 8,
   "id": "d879f6b2",
   "metadata": {
    "execution": {
     "iopub.execute_input": "2022-05-13T08:46:46.938707Z",
     "iopub.status.busy": "2022-05-13T08:46:46.937689Z",
     "iopub.status.idle": "2022-05-13T08:46:46.968488Z",
     "shell.execute_reply": "2022-05-13T08:46:46.967561Z"
    },
    "papermill": {
     "duration": 0.086331,
     "end_time": "2022-05-13T08:46:46.970799",
     "exception": false,
     "start_time": "2022-05-13T08:46:46.884468",
     "status": "completed"
    },
    "tags": []
   },
   "outputs": [
    {
     "data": {
      "text/html": [
       "<div>\n",
       "<style scoped>\n",
       "    .dataframe tbody tr th:only-of-type {\n",
       "        vertical-align: middle;\n",
       "    }\n",
       "\n",
       "    .dataframe tbody tr th {\n",
       "        vertical-align: top;\n",
       "    }\n",
       "\n",
       "    .dataframe thead th {\n",
       "        text-align: right;\n",
       "    }\n",
       "</style>\n",
       "<table border=\"1\" class=\"dataframe\">\n",
       "  <thead>\n",
       "    <tr style=\"text-align: right;\">\n",
       "      <th></th>\n",
       "      <th></th>\n",
       "      <th>id</th>\n",
       "      <th>hypertension</th>\n",
       "      <th>heart_disease</th>\n",
       "      <th>avg_glucose_level</th>\n",
       "      <th>bmi</th>\n",
       "      <th>stroke</th>\n",
       "    </tr>\n",
       "    <tr>\n",
       "      <th>age</th>\n",
       "      <th>smoking_status</th>\n",
       "      <th></th>\n",
       "      <th></th>\n",
       "      <th></th>\n",
       "      <th></th>\n",
       "      <th></th>\n",
       "      <th></th>\n",
       "    </tr>\n",
       "  </thead>\n",
       "  <tbody>\n",
       "    <tr>\n",
       "      <th rowspan=\"3\" valign=\"top\">10.0</th>\n",
       "      <th>formerly smoked</th>\n",
       "      <td>677748</td>\n",
       "      <td>0</td>\n",
       "      <td>0</td>\n",
       "      <td>1648.38</td>\n",
       "      <td>326.505038</td>\n",
       "      <td>0</td>\n",
       "    </tr>\n",
       "    <tr>\n",
       "      <th>never smoked</th>\n",
       "      <td>2459191</td>\n",
       "      <td>0</td>\n",
       "      <td>0</td>\n",
       "      <td>5648.49</td>\n",
       "      <td>1326.700000</td>\n",
       "      <td>0</td>\n",
       "    </tr>\n",
       "    <tr>\n",
       "      <th>smokes</th>\n",
       "      <td>64128</td>\n",
       "      <td>0</td>\n",
       "      <td>0</td>\n",
       "      <td>63.08</td>\n",
       "      <td>20.500000</td>\n",
       "      <td>0</td>\n",
       "    </tr>\n",
       "    <tr>\n",
       "      <th rowspan=\"2\" valign=\"top\">11.0</th>\n",
       "      <th>formerly smoked</th>\n",
       "      <td>611500</td>\n",
       "      <td>0</td>\n",
       "      <td>0</td>\n",
       "      <td>1546.02</td>\n",
       "      <td>401.315115</td>\n",
       "      <td>0</td>\n",
       "    </tr>\n",
       "    <tr>\n",
       "      <th>never smoked</th>\n",
       "      <td>3623926</td>\n",
       "      <td>0</td>\n",
       "      <td>0</td>\n",
       "      <td>8535.66</td>\n",
       "      <td>2148.715115</td>\n",
       "      <td>0</td>\n",
       "    </tr>\n",
       "  </tbody>\n",
       "</table>\n",
       "</div>"
      ],
      "text/plain": [
       "                           id  hypertension  heart_disease  avg_glucose_level  \\\n",
       "age  smoking_status                                                             \n",
       "10.0 formerly smoked   677748             0              0            1648.38   \n",
       "     never smoked     2459191             0              0            5648.49   \n",
       "     smokes             64128             0              0              63.08   \n",
       "11.0 formerly smoked   611500             0              0            1546.02   \n",
       "     never smoked     3623926             0              0            8535.66   \n",
       "\n",
       "                              bmi  stroke  \n",
       "age  smoking_status                        \n",
       "10.0 formerly smoked   326.505038       0  \n",
       "     never smoked     1326.700000       0  \n",
       "     smokes             20.500000       0  \n",
       "11.0 formerly smoked   401.315115       0  \n",
       "     never smoked     2148.715115       0  "
      ]
     },
     "execution_count": 8,
     "metadata": {},
     "output_type": "execute_result"
    }
   ],
   "source": [
    "data_trai = data_train.groupby(['age','smoking_status']).sum()\n",
    "data_trai.head()\n"
   ]
  },
  {
   "cell_type": "code",
   "execution_count": 9,
   "id": "1d22c6e3",
   "metadata": {
    "execution": {
     "iopub.execute_input": "2022-05-13T08:46:47.079306Z",
     "iopub.status.busy": "2022-05-13T08:46:47.078722Z",
     "iopub.status.idle": "2022-05-13T08:46:47.144184Z",
     "shell.execute_reply": "2022-05-13T08:46:47.143488Z"
    },
    "papermill": {
     "duration": 0.122237,
     "end_time": "2022-05-13T08:46:47.146294",
     "exception": false,
     "start_time": "2022-05-13T08:46:47.024057",
     "status": "completed"
    },
    "tags": []
   },
   "outputs": [
    {
     "data": {
      "text/plain": [
       "id                   0\n",
       "gender               0\n",
       "age                  0\n",
       "hypertension         0\n",
       "heart_disease        0\n",
       "ever_married         0\n",
       "work_type            0\n",
       "Residence_type       0\n",
       "avg_glucose_level    0\n",
       "bmi                  0\n",
       "smoking_status       0\n",
       "stroke               0\n",
       "dtype: int64"
      ]
     },
     "execution_count": 9,
     "metadata": {},
     "output_type": "execute_result"
    }
   ],
   "source": [
    "data_train = data_train.dropna(axis = 0, how = 'any')\n",
    "data_test = data_test.dropna(axis = 0, how = 'any')\n",
    "data_train.isnull().sum()\n"
   ]
  },
  {
   "cell_type": "code",
   "execution_count": 10,
   "id": "7a6310e4",
   "metadata": {
    "execution": {
     "iopub.execute_input": "2022-05-13T08:46:47.254593Z",
     "iopub.status.busy": "2022-05-13T08:46:47.253963Z",
     "iopub.status.idle": "2022-05-13T08:46:47.262127Z",
     "shell.execute_reply": "2022-05-13T08:46:47.261246Z"
    },
    "papermill": {
     "duration": 0.064755,
     "end_time": "2022-05-13T08:46:47.264284",
     "exception": false,
     "start_time": "2022-05-13T08:46:47.199529",
     "status": "completed"
    },
    "tags": []
   },
   "outputs": [
    {
     "data": {
      "text/plain": [
       "0    29470\n",
       "1      638\n",
       "Name: stroke, dtype: int64"
      ]
     },
     "execution_count": 10,
     "metadata": {},
     "output_type": "execute_result"
    }
   ],
   "source": [
    "data_train['stroke'].value_counts()"
   ]
  },
  {
   "cell_type": "code",
   "execution_count": 11,
   "id": "983c5aa5",
   "metadata": {
    "execution": {
     "iopub.execute_input": "2022-05-13T08:46:47.374171Z",
     "iopub.status.busy": "2022-05-13T08:46:47.373664Z",
     "iopub.status.idle": "2022-05-13T08:46:47.574583Z",
     "shell.execute_reply": "2022-05-13T08:46:47.573393Z"
    },
    "papermill": {
     "duration": 0.258602,
     "end_time": "2022-05-13T08:46:47.577776",
     "exception": false,
     "start_time": "2022-05-13T08:46:47.319174",
     "status": "completed"
    },
    "tags": []
   },
   "outputs": [
    {
     "name": "stderr",
     "output_type": "stream",
     "text": [
      "/opt/conda/lib/python3.7/site-packages/seaborn/_decorators.py:43: FutureWarning: Pass the following variable as a keyword arg: x. From version 0.12, the only valid positional argument will be `data`, and passing other arguments without an explicit keyword will result in an error or misinterpretation.\n",
      "  FutureWarning\n"
     ]
    },
    {
     "data": {
      "image/png": "[encoded data removed]",
      "text/plain": [
       "<Figure size 432x288 with 1 Axes>"
      ]
     },
     "metadata": {
      "needs_background": "light"
     },
     "output_type": "display_data"
    }
   ],
   "source": [
    "\n",
    "\n",
    "sns.countplot(data_train['stroke'],hue = data_train['stroke'])\n",
    "plt.title(\"no. of strokes and non strokes \")\n",
    "plt.show()\n"
   ]
  },
  {
   "cell_type": "code",
   "execution_count": 12,
   "id": "3df15ce6",
   "metadata": {
    "execution": {
     "iopub.execute_input": "2022-05-13T08:46:47.689908Z",
     "iopub.status.busy": "2022-05-13T08:46:47.689493Z",
     "iopub.status.idle": "2022-05-13T08:46:48.558425Z",
     "shell.execute_reply": "2022-05-13T08:46:48.557609Z"
    },
    "papermill": {
     "duration": 0.927259,
     "end_time": "2022-05-13T08:46:48.560773",
     "exception": false,
     "start_time": "2022-05-13T08:46:47.633514",
     "status": "completed"
    },
    "tags": []
   },
   "outputs": [
    {
     "name": "stderr",
     "output_type": "stream",
     "text": [
      "/opt/conda/lib/python3.7/site-packages/seaborn/_decorators.py:43: FutureWarning: Pass the following variable as a keyword arg: x. From version 0.12, the only valid positional argument will be `data`, and passing other arguments without an explicit keyword will result in an error or misinterpretation.\n",
      "  FutureWarning\n"
     ]
    },
    {
     "data": {
      "image/png": "[encoded data removed]",
      "text/plain": [
       "<Figure size 432x288 with 1 Axes>"
      ]
     },
     "metadata": {
      "needs_background": "light"
     },
     "output_type": "display_data"
    }
   ],
   "source": [
    "#plot age groups \n",
    "data_train['age'].value_counts()\n",
    "sns.countplot(data_train['age'])\n",
    "plt.title(\"different age groups\")\n",
    "plt.show()"
   ]
  },
  {
   "cell_type": "code",
   "execution_count": 13,
   "id": "3317ba4f",
   "metadata": {
    "execution": {
     "iopub.execute_input": "2022-05-13T08:46:48.676650Z",
     "iopub.status.busy": "2022-05-13T08:46:48.676309Z",
     "iopub.status.idle": "2022-05-13T08:46:48.687883Z",
     "shell.execute_reply": "2022-05-13T08:46:48.686955Z"
    },
    "papermill": {
     "duration": 0.072634,
     "end_time": "2022-05-13T08:46:48.690145",
     "exception": false,
     "start_time": "2022-05-13T08:46:48.617511",
     "status": "completed"
    },
    "tags": []
   },
   "outputs": [
    {
     "data": {
      "text/plain": [
       "Female    18366\n",
       "Male      11733\n",
       "Other         9\n",
       "Name: gender, dtype: int64"
      ]
     },
     "execution_count": 13,
     "metadata": {},
     "output_type": "execute_result"
    }
   ],
   "source": [
    "#checking gender count\n",
    "data_train['gender'].value_counts()"
   ]
  },
  {
   "cell_type": "code",
   "execution_count": 14,
   "id": "ea28170e",
   "metadata": {
    "execution": {
     "iopub.execute_input": "2022-05-13T08:46:48.805175Z",
     "iopub.status.busy": "2022-05-13T08:46:48.804861Z",
     "iopub.status.idle": "2022-05-13T08:46:49.013549Z",
     "shell.execute_reply": "2022-05-13T08:46:49.011825Z"
    },
    "papermill": {
     "duration": 0.269827,
     "end_time": "2022-05-13T08:46:49.016640",
     "exception": false,
     "start_time": "2022-05-13T08:46:48.746813",
     "status": "completed"
    },
    "tags": []
   },
   "outputs": [
    {
     "name": "stderr",
     "output_type": "stream",
     "text": [
      "/opt/conda/lib/python3.7/site-packages/seaborn/_decorators.py:43: FutureWarning: Pass the following variable as a keyword arg: x. From version 0.12, the only valid positional argument will be `data`, and passing other arguments without an explicit keyword will result in an error or misinterpretation.\n",
      "  FutureWarning\n"
     ]
    },
    {
     "data": {
      "image/png": "[encoded data removed]",
      "text/plain": [
       "<Figure size 432x288 with 1 Axes>"
      ]
     },
     "metadata": {
      "needs_background": "light"
     },
     "output_type": "display_data"
    }
   ],
   "source": [
    "sns.countplot(data_train['gender'])\n",
    "plt.title(\"gender ratio\")\n",
    "plt.show()"
   ]
  },
  {
   "cell_type": "markdown",
   "id": "26c6fb60",
   "metadata": {
    "papermill": {
     "duration": 0.059942,
     "end_time": "2022-05-13T08:46:49.137663",
     "exception": false,
     "start_time": "2022-05-13T08:46:49.077721",
     "status": "completed"
    },
    "tags": []
   },
   "source": [
    "make plots with "
   ]
  },
  {
   "cell_type": "code",
   "execution_count": 15,
   "id": "7c46e563",
   "metadata": {
    "execution": {
     "iopub.execute_input": "2022-05-13T08:46:49.255445Z",
     "iopub.status.busy": "2022-05-13T08:46:49.254621Z",
     "iopub.status.idle": "2022-05-13T08:46:49.516425Z",
     "shell.execute_reply": "2022-05-13T08:46:49.515594Z"
    },
    "papermill": {
     "duration": 0.323307,
     "end_time": "2022-05-13T08:46:49.518508",
     "exception": false,
     "start_time": "2022-05-13T08:46:49.195201",
     "status": "completed"
    },
    "tags": []
   },
   "outputs": [
    {
     "name": "stderr",
     "output_type": "stream",
     "text": [
      "/opt/conda/lib/python3.7/site-packages/seaborn/_decorators.py:43: FutureWarning: Pass the following variable as a keyword arg: x. From version 0.12, the only valid positional argument will be `data`, and passing other arguments without an explicit keyword will result in an error or misinterpretation.\n",
      "  FutureWarning\n"
     ]
    },
    {
     "data": {
      "image/png": "[encoded data removed]",
      "text/plain": [
       "<Figure size 432x288 with 1 Axes>"
      ]
     },
     "metadata": {
      "needs_background": "light"
     },
     "output_type": "display_data"
    },
    {
     "data": {
      "text/plain": [
       "gender  stroke\n",
       "Female  0         18006\n",
       "        1           360\n",
       "Male    0         11455\n",
       "        1           278\n",
       "Other   0             9\n",
       "Name: stroke, dtype: int64"
      ]
     },
     "execution_count": 15,
     "metadata": {},
     "output_type": "execute_result"
    }
   ],
   "source": [
    "sns.countplot(data_train['gender'],hue = data_train['stroke'])\n",
    "plt.title(\"gender ratio and stroke graph\")\n",
    "plt.show()\n",
    "# as we see as compare to male, women have more number of strokes\n",
    "data_train.groupby('gender')['stroke'].value_counts()"
   ]
  },
  {
   "cell_type": "code",
   "execution_count": 16,
   "id": "cd07addc",
   "metadata": {
    "execution": {
     "iopub.execute_input": "2022-05-13T08:46:49.640193Z",
     "iopub.status.busy": "2022-05-13T08:46:49.639491Z",
     "iopub.status.idle": "2022-05-13T08:46:49.837604Z",
     "shell.execute_reply": "2022-05-13T08:46:49.836361Z"
    },
    "papermill": {
     "duration": 0.261318,
     "end_time": "2022-05-13T08:46:49.839946",
     "exception": false,
     "start_time": "2022-05-13T08:46:49.578628",
     "status": "completed"
    },
    "tags": []
   },
   "outputs": [
    {
     "name": "stdout",
     "output_type": "stream",
     "text": [
      "0    28430\n",
      "1     1678\n",
      "Name: heart_disease, dtype: int64\n"
     ]
    },
    {
     "name": "stderr",
     "output_type": "stream",
     "text": [
      "/opt/conda/lib/python3.7/site-packages/seaborn/_decorators.py:43: FutureWarning: Pass the following variable as a keyword arg: x. From version 0.12, the only valid positional argument will be `data`, and passing other arguments without an explicit keyword will result in an error or misinterpretation.\n",
      "  FutureWarning\n"
     ]
    },
    {
     "data": {
      "image/png": "[encoded data removed]",
      "text/plain": [
       "<Figure size 432x288 with 1 Axes>"
      ]
     },
     "metadata": {
      "needs_background": "light"
     },
     "output_type": "display_data"
    },
    {
     "name": "stdout",
     "output_type": "stream",
     "text": [
      "heart_disease  stroke\n",
      "0              0         27934\n",
      "               1           496\n",
      "1              0          1536\n",
      "               1           142\n",
      "Name: stroke, dtype: int64\n"
     ]
    }
   ],
   "source": [
    "#checking how many people are suffering from heart disease\n",
    "print(data_train['heart_disease'].value_counts())\n",
    "#plotting it with stroke\n",
    "sns.countplot(data_train['heart_disease'], hue = data_train['stroke'])\n",
    "plt.title(\"heart disease vs stroke \")\n",
    "plt.show()\n",
    "print(data_train.groupby('heart_disease')['stroke'].value_counts())\n",
    "\n",
    "#we can clearly see that the people which are having heart disease have high chances of stroke "
   ]
  },
  {
   "cell_type": "code",
   "execution_count": 17,
   "id": "43ba7499",
   "metadata": {
    "execution": {
     "iopub.execute_input": "2022-05-13T08:46:49.965792Z",
     "iopub.status.busy": "2022-05-13T08:46:49.965531Z",
     "iopub.status.idle": "2022-05-13T08:46:49.972834Z",
     "shell.execute_reply": "2022-05-13T08:46:49.972048Z"
    },
    "papermill": {
     "duration": 0.072693,
     "end_time": "2022-05-13T08:46:49.974923",
     "exception": false,
     "start_time": "2022-05-13T08:46:49.902230",
     "status": "completed"
    },
    "tags": []
   },
   "outputs": [
    {
     "data": {
      "text/plain": [
       "0    26580\n",
       "1     3528\n",
       "Name: hypertension, dtype: int64"
      ]
     },
     "execution_count": 17,
     "metadata": {},
     "output_type": "execute_result"
    }
   ],
   "source": [
    "# checking hypertension \n",
    "data_train['hypertension'].value_counts()"
   ]
  },
  {
   "cell_type": "code",
   "execution_count": 18,
   "id": "1ca7a5dc",
   "metadata": {
    "execution": {
     "iopub.execute_input": "2022-05-13T08:46:50.103604Z",
     "iopub.status.busy": "2022-05-13T08:46:50.103288Z",
     "iopub.status.idle": "2022-05-13T08:46:50.296769Z",
     "shell.execute_reply": "2022-05-13T08:46:50.295658Z"
    },
    "papermill": {
     "duration": 0.261084,
     "end_time": "2022-05-13T08:46:50.298815",
     "exception": false,
     "start_time": "2022-05-13T08:46:50.037731",
     "status": "completed"
    },
    "tags": []
   },
   "outputs": [
    {
     "name": "stderr",
     "output_type": "stream",
     "text": [
      "/opt/conda/lib/python3.7/site-packages/seaborn/_decorators.py:43: FutureWarning: Pass the following variable as a keyword arg: x. From version 0.12, the only valid positional argument will be `data`, and passing other arguments without an explicit keyword will result in an error or misinterpretation.\n",
      "  FutureWarning\n"
     ]
    },
    {
     "data": {
      "image/png": "[encoded data removed]",
      "text/plain": [
       "<Figure size 432x288 with 1 Axes>"
      ]
     },
     "metadata": {
      "needs_background": "light"
     },
     "output_type": "display_data"
    },
    {
     "name": "stdout",
     "output_type": "stream",
     "text": [
      "hypertension  stroke\n",
      "0             0         26119\n",
      "              1           461\n",
      "1             0          3351\n",
      "              1           177\n",
      "Name: stroke, dtype: int64\n"
     ]
    }
   ],
   "source": [
    "#plotting hypertension and stroke\n",
    "sns.countplot(data_train['hypertension'], hue = data_train['stroke'])\n",
    "plt.title(\"hypertension vs stroke\")\n",
    "plt.show()\n",
    "print(data_train.groupby('hypertension')['stroke'].value_counts())\n",
    "\n",
    "#again the people having hypertention have high chances of strokes"
   ]
  },
  {
   "cell_type": "code",
   "execution_count": 19,
   "id": "5dbd50df",
   "metadata": {
    "execution": {
     "iopub.execute_input": "2022-05-13T08:46:50.428528Z",
     "iopub.status.busy": "2022-05-13T08:46:50.428239Z",
     "iopub.status.idle": "2022-05-13T08:46:50.438792Z",
     "shell.execute_reply": "2022-05-13T08:46:50.438185Z"
    },
    "papermill": {
     "duration": 0.076648,
     "end_time": "2022-05-13T08:46:50.440593",
     "exception": false,
     "start_time": "2022-05-13T08:46:50.363945",
     "status": "completed"
    },
    "tags": []
   },
   "outputs": [
    {
     "data": {
      "text/plain": [
       "Private          19585\n",
       "Self-employed     5445\n",
       "Govt_job          4346\n",
       "children           631\n",
       "Never_worked       101\n",
       "Name: work_type, dtype: int64"
      ]
     },
     "execution_count": 19,
     "metadata": {},
     "output_type": "execute_result"
    }
   ],
   "source": [
    "#effect of worktype \n",
    "data_train['work_type'].value_counts()"
   ]
  },
  {
   "cell_type": "code",
   "execution_count": 20,
   "id": "7e6f0f03",
   "metadata": {
    "execution": {
     "iopub.execute_input": "2022-05-13T08:46:50.570695Z",
     "iopub.status.busy": "2022-05-13T08:46:50.570198Z",
     "iopub.status.idle": "2022-05-13T08:46:50.987688Z",
     "shell.execute_reply": "2022-05-13T08:46:50.986666Z"
    },
    "papermill": {
     "duration": 0.48549,
     "end_time": "2022-05-13T08:46:50.990327",
     "exception": false,
     "start_time": "2022-05-13T08:46:50.504837",
     "status": "completed"
    },
    "tags": []
   },
   "outputs": [
    {
     "name": "stderr",
     "output_type": "stream",
     "text": [
      "/opt/conda/lib/python3.7/site-packages/seaborn/_decorators.py:43: FutureWarning: Pass the following variable as a keyword arg: x. From version 0.12, the only valid positional argument will be `data`, and passing other arguments without an explicit keyword will result in an error or misinterpretation.\n",
      "  FutureWarning\n"
     ]
    },
    {
     "data": {
      "image/png": "[encoded data removed]",
      "text/plain": [
       "<Figure size 432x288 with 1 Axes>"
      ]
     },
     "metadata": {
      "needs_background": "light"
     },
     "output_type": "display_data"
    },
    {
     "name": "stdout",
     "output_type": "stream",
     "text": [
      "work_type      stroke\n",
      "Govt_job       0          4274\n",
      "               1            72\n",
      "Never_worked   0           101\n",
      "Private        0         19221\n",
      "               1           364\n",
      "Self-employed  0          5243\n",
      "               1           202\n",
      "children       0           631\n",
      "Name: stroke, dtype: int64\n"
     ]
    }
   ],
   "source": [
    "sns.countplot(data_train['work_type'], hue = data_train['stroke'])\n",
    "plt.title(\"work_type vs stroke\")\n",
    "plt.show()\n",
    "print(data_train.groupby('work_type')['stroke'].value_counts())\n",
    "\n",
    "# clearly see from the graph, people who never worked or do children job never faced any stroke, while self employed poeple have high chance of risk."
   ]
  },
  {
   "cell_type": "code",
   "execution_count": 21,
   "id": "3cc897b2",
   "metadata": {
    "execution": {
     "iopub.execute_input": "2022-05-13T08:46:51.125373Z",
     "iopub.status.busy": "2022-05-13T08:46:51.124477Z",
     "iopub.status.idle": "2022-05-13T08:46:51.394718Z",
     "shell.execute_reply": "2022-05-13T08:46:51.393659Z"
    },
    "papermill": {
     "duration": 0.34181,
     "end_time": "2022-05-13T08:46:51.398013",
     "exception": false,
     "start_time": "2022-05-13T08:46:51.056203",
     "status": "completed"
    },
    "tags": []
   },
   "outputs": [
    {
     "name": "stdout",
     "output_type": "stream",
     "text": [
      "never smoked       16053\n",
      "formerly smoked     7493\n",
      "smokes              6562\n",
      "Name: smoking_status, dtype: int64\n"
     ]
    },
    {
     "name": "stderr",
     "output_type": "stream",
     "text": [
      "/opt/conda/lib/python3.7/site-packages/seaborn/_decorators.py:43: FutureWarning: Pass the following variable as a keyword arg: x. From version 0.12, the only valid positional argument will be `data`, and passing other arguments without an explicit keyword will result in an error or misinterpretation.\n",
      "  FutureWarning\n"
     ]
    },
    {
     "data": {
      "image/png": "[encoded data removed]",
      "text/plain": [
       "<Figure size 432x288 with 1 Axes>"
      ]
     },
     "metadata": {
      "needs_background": "light"
     },
     "output_type": "display_data"
    },
    {
     "name": "stdout",
     "output_type": "stream",
     "text": [
      "smoking_status   stroke\n",
      "formerly smoked  0          7272\n",
      "                 1           221\n",
      "never smoked     0         15769\n",
      "                 1           284\n",
      "smokes           0          6429\n",
      "                 1           133\n",
      "Name: stroke, dtype: int64\n"
     ]
    }
   ],
   "source": [
    "# smoking is an important aspect \n",
    "\n",
    "print(data_train['smoking_status'].value_counts())\n",
    "sns.countplot(data_train['smoking_status'], hue = data_train['stroke'])\n",
    "plt.title(\"smoking status vs stroke\")\n",
    "plt.show()\n",
    "print(data_train.groupby('smoking_status')['stroke'].value_counts())\n",
    "\n",
    "#people who never smoked have very less chances of stroke as compare to others"
   ]
  },
  {
   "cell_type": "code",
   "execution_count": 22,
   "id": "8dcbb87a",
   "metadata": {
    "execution": {
     "iopub.execute_input": "2022-05-13T08:46:51.535528Z",
     "iopub.status.busy": "2022-05-13T08:46:51.534966Z",
     "iopub.status.idle": "2022-05-13T08:46:51.546571Z",
     "shell.execute_reply": "2022-05-13T08:46:51.545844Z"
    },
    "papermill": {
     "duration": 0.082777,
     "end_time": "2022-05-13T08:46:51.548830",
     "exception": false,
     "start_time": "2022-05-13T08:46:51.466053",
     "status": "completed"
    },
    "tags": []
   },
   "outputs": [],
   "source": [
    "# covert categorical data types \n",
    "\n",
    "str_data = data_train.select_dtypes(include =['object'])\n",
    "str_data_test = data_test.select_dtypes(include =['object'])\n",
    "\n",
    "int_data = data_train.select_dtypes(include =['int','float'])\n",
    "int_data_test = data_test.select_dtypes(include =['int','float'])\n",
    "\n",
    "#data_train = data_train.astype(data_train,'int64')"
   ]
  },
  {
   "cell_type": "code",
   "execution_count": 23,
   "id": "1dcce380",
   "metadata": {
    "execution": {
     "iopub.execute_input": "2022-05-13T08:46:51.686762Z",
     "iopub.status.busy": "2022-05-13T08:46:51.686350Z",
     "iopub.status.idle": "2022-05-13T08:46:51.895372Z",
     "shell.execute_reply": "2022-05-13T08:46:51.894518Z"
    },
    "papermill": {
     "duration": 0.280266,
     "end_time": "2022-05-13T08:46:51.897559",
     "exception": false,
     "start_time": "2022-05-13T08:46:51.617293",
     "status": "completed"
    },
    "tags": []
   },
   "outputs": [
    {
     "data": {
      "text/html": [
       "<div>\n",
       "<style scoped>\n",
       "    .dataframe tbody tr th:only-of-type {\n",
       "        vertical-align: middle;\n",
       "    }\n",
       "\n",
       "    .dataframe tbody tr th {\n",
       "        vertical-align: top;\n",
       "    }\n",
       "\n",
       "    .dataframe thead th {\n",
       "        text-align: right;\n",
       "    }\n",
       "</style>\n",
       "<table border=\"1\" class=\"dataframe\">\n",
       "  <thead>\n",
       "    <tr style=\"text-align: right;\">\n",
       "      <th></th>\n",
       "      <th>gender</th>\n",
       "      <th>ever_married</th>\n",
       "      <th>work_type</th>\n",
       "      <th>Residence_type</th>\n",
       "      <th>smoking_status</th>\n",
       "      <th>id</th>\n",
       "      <th>age</th>\n",
       "      <th>hypertension</th>\n",
       "      <th>heart_disease</th>\n",
       "      <th>avg_glucose_level</th>\n",
       "      <th>bmi</th>\n",
       "      <th>stroke</th>\n",
       "    </tr>\n",
       "  </thead>\n",
       "  <tbody>\n",
       "    <tr>\n",
       "      <th>1</th>\n",
       "      <td>1</td>\n",
       "      <td>1</td>\n",
       "      <td>2</td>\n",
       "      <td>1</td>\n",
       "      <td>1</td>\n",
       "      <td>30468</td>\n",
       "      <td>58.0</td>\n",
       "      <td>1</td>\n",
       "      <td>0</td>\n",
       "      <td>87.96</td>\n",
       "      <td>39.2</td>\n",
       "      <td>0</td>\n",
       "    </tr>\n",
       "    <tr>\n",
       "      <th>3</th>\n",
       "      <td>0</td>\n",
       "      <td>1</td>\n",
       "      <td>2</td>\n",
       "      <td>0</td>\n",
       "      <td>0</td>\n",
       "      <td>56543</td>\n",
       "      <td>70.0</td>\n",
       "      <td>0</td>\n",
       "      <td>0</td>\n",
       "      <td>69.04</td>\n",
       "      <td>35.9</td>\n",
       "      <td>0</td>\n",
       "    </tr>\n",
       "    <tr>\n",
       "      <th>6</th>\n",
       "      <td>0</td>\n",
       "      <td>1</td>\n",
       "      <td>2</td>\n",
       "      <td>1</td>\n",
       "      <td>0</td>\n",
       "      <td>52800</td>\n",
       "      <td>52.0</td>\n",
       "      <td>0</td>\n",
       "      <td>0</td>\n",
       "      <td>77.59</td>\n",
       "      <td>17.7</td>\n",
       "      <td>0</td>\n",
       "    </tr>\n",
       "    <tr>\n",
       "      <th>7</th>\n",
       "      <td>0</td>\n",
       "      <td>1</td>\n",
       "      <td>3</td>\n",
       "      <td>0</td>\n",
       "      <td>1</td>\n",
       "      <td>41413</td>\n",
       "      <td>75.0</td>\n",
       "      <td>0</td>\n",
       "      <td>1</td>\n",
       "      <td>243.53</td>\n",
       "      <td>27.0</td>\n",
       "      <td>0</td>\n",
       "    </tr>\n",
       "    <tr>\n",
       "      <th>8</th>\n",
       "      <td>0</td>\n",
       "      <td>1</td>\n",
       "      <td>2</td>\n",
       "      <td>0</td>\n",
       "      <td>2</td>\n",
       "      <td>15266</td>\n",
       "      <td>32.0</td>\n",
       "      <td>0</td>\n",
       "      <td>0</td>\n",
       "      <td>77.67</td>\n",
       "      <td>32.3</td>\n",
       "      <td>0</td>\n",
       "    </tr>\n",
       "  </tbody>\n",
       "</table>\n",
       "</div>"
      ],
      "text/plain": [
       "   gender  ever_married  work_type  Residence_type  smoking_status     id  \\\n",
       "1       1             1          2               1               1  30468   \n",
       "3       0             1          2               0               0  56543   \n",
       "6       0             1          2               1               0  52800   \n",
       "7       0             1          3               0               1  41413   \n",
       "8       0             1          2               0               2  15266   \n",
       "\n",
       "    age  hypertension  heart_disease  avg_glucose_level   bmi  stroke  \n",
       "1  58.0             1              0              87.96  39.2       0  \n",
       "3  70.0             0              0              69.04  35.9       0  \n",
       "6  52.0             0              0              77.59  17.7       0  \n",
       "7  75.0             0              1             243.53  27.0       0  \n",
       "8  32.0             0              0              77.67  32.3       0  "
      ]
     },
     "execution_count": 23,
     "metadata": {},
     "output_type": "execute_result"
    }
   ],
   "source": [
    "from sklearn.preprocessing import LabelEncoder\n",
    "labelencoder = LabelEncoder()\n",
    "#features = labelencoder.fit_transform(str_data)\n",
    "features = str_data.apply(labelencoder.fit_transform)\n",
    "features = features.join(int_data)\n",
    "features.head()"
   ]
  },
  {
   "cell_type": "code",
   "execution_count": 24,
   "id": "f83acdb6",
   "metadata": {
    "execution": {
     "iopub.execute_input": "2022-05-13T08:46:52.037258Z",
     "iopub.status.busy": "2022-05-13T08:46:52.036819Z",
     "iopub.status.idle": "2022-05-13T08:46:52.072309Z",
     "shell.execute_reply": "2022-05-13T08:46:52.071472Z"
    },
    "papermill": {
     "duration": 0.107295,
     "end_time": "2022-05-13T08:46:52.074265",
     "exception": false,
     "start_time": "2022-05-13T08:46:51.966970",
     "status": "completed"
    },
    "tags": []
   },
   "outputs": [
    {
     "data": {
      "text/html": [
       "<div>\n",
       "<style scoped>\n",
       "    .dataframe tbody tr th:only-of-type {\n",
       "        vertical-align: middle;\n",
       "    }\n",
       "\n",
       "    .dataframe tbody tr th {\n",
       "        vertical-align: top;\n",
       "    }\n",
       "\n",
       "    .dataframe thead th {\n",
       "        text-align: right;\n",
       "    }\n",
       "</style>\n",
       "<table border=\"1\" class=\"dataframe\">\n",
       "  <thead>\n",
       "    <tr style=\"text-align: right;\">\n",
       "      <th></th>\n",
       "      <th>gender</th>\n",
       "      <th>ever_married</th>\n",
       "      <th>work_type</th>\n",
       "      <th>Residence_type</th>\n",
       "      <th>smoking_status</th>\n",
       "      <th>id</th>\n",
       "      <th>age</th>\n",
       "      <th>hypertension</th>\n",
       "      <th>heart_disease</th>\n",
       "      <th>avg_glucose_level</th>\n",
       "      <th>bmi</th>\n",
       "    </tr>\n",
       "  </thead>\n",
       "  <tbody>\n",
       "    <tr>\n",
       "      <th>0</th>\n",
       "      <td>1</td>\n",
       "      <td>1</td>\n",
       "      <td>2</td>\n",
       "      <td>1</td>\n",
       "      <td>0</td>\n",
       "      <td>36306</td>\n",
       "      <td>80.0</td>\n",
       "      <td>0</td>\n",
       "      <td>0</td>\n",
       "      <td>83.84</td>\n",
       "      <td>21.1</td>\n",
       "    </tr>\n",
       "    <tr>\n",
       "      <th>1</th>\n",
       "      <td>0</td>\n",
       "      <td>1</td>\n",
       "      <td>3</td>\n",
       "      <td>0</td>\n",
       "      <td>0</td>\n",
       "      <td>61829</td>\n",
       "      <td>74.0</td>\n",
       "      <td>0</td>\n",
       "      <td>1</td>\n",
       "      <td>179.50</td>\n",
       "      <td>26.0</td>\n",
       "    </tr>\n",
       "    <tr>\n",
       "      <th>4</th>\n",
       "      <td>0</td>\n",
       "      <td>1</td>\n",
       "      <td>0</td>\n",
       "      <td>0</td>\n",
       "      <td>1</td>\n",
       "      <td>40801</td>\n",
       "      <td>63.0</td>\n",
       "      <td>0</td>\n",
       "      <td>0</td>\n",
       "      <td>83.57</td>\n",
       "      <td>27.6</td>\n",
       "    </tr>\n",
       "    <tr>\n",
       "      <th>5</th>\n",
       "      <td>0</td>\n",
       "      <td>1</td>\n",
       "      <td>2</td>\n",
       "      <td>1</td>\n",
       "      <td>1</td>\n",
       "      <td>9348</td>\n",
       "      <td>66.0</td>\n",
       "      <td>1</td>\n",
       "      <td>0</td>\n",
       "      <td>219.98</td>\n",
       "      <td>32.2</td>\n",
       "    </tr>\n",
       "    <tr>\n",
       "      <th>7</th>\n",
       "      <td>1</td>\n",
       "      <td>1</td>\n",
       "      <td>0</td>\n",
       "      <td>1</td>\n",
       "      <td>1</td>\n",
       "      <td>60512</td>\n",
       "      <td>46.0</td>\n",
       "      <td>0</td>\n",
       "      <td>0</td>\n",
       "      <td>120.80</td>\n",
       "      <td>32.5</td>\n",
       "    </tr>\n",
       "  </tbody>\n",
       "</table>\n",
       "</div>"
      ],
      "text/plain": [
       "   gender  ever_married  work_type  Residence_type  smoking_status     id  \\\n",
       "0       1             1          2               1               0  36306   \n",
       "1       0             1          3               0               0  61829   \n",
       "4       0             1          0               0               1  40801   \n",
       "5       0             1          2               1               1   9348   \n",
       "7       1             1          0               1               1  60512   \n",
       "\n",
       "    age  hypertension  heart_disease  avg_glucose_level   bmi  \n",
       "0  80.0             0              0              83.84  21.1  \n",
       "1  74.0             0              1             179.50  26.0  \n",
       "4  63.0             0              0              83.57  27.6  \n",
       "5  66.0             1              0             219.98  32.2  \n",
       "7  46.0             0              0             120.80  32.5  "
      ]
     },
     "execution_count": 24,
     "metadata": {},
     "output_type": "execute_result"
    }
   ],
   "source": [
    "labelencoder = LabelEncoder()\n",
    "features_test = str_data_test.apply(labelencoder.fit_transform)\n",
    "features_test = features_test.join(int_data_test)\n",
    "features_test.head()"
   ]
  },
  {
   "cell_type": "code",
   "execution_count": 25,
   "id": "6f9cf5ad",
   "metadata": {
    "execution": {
     "iopub.execute_input": "2022-05-13T08:46:52.216290Z",
     "iopub.status.busy": "2022-05-13T08:46:52.215830Z",
     "iopub.status.idle": "2022-05-13T08:46:52.234079Z",
     "shell.execute_reply": "2022-05-13T08:46:52.233232Z"
    },
    "papermill": {
     "duration": 0.091788,
     "end_time": "2022-05-13T08:46:52.236050",
     "exception": false,
     "start_time": "2022-05-13T08:46:52.144262",
     "status": "completed"
    },
    "tags": []
   },
   "outputs": [
    {
     "data": {
      "text/html": [
       "<div>\n",
       "<style scoped>\n",
       "    .dataframe tbody tr th:only-of-type {\n",
       "        vertical-align: middle;\n",
       "    }\n",
       "\n",
       "    .dataframe tbody tr th {\n",
       "        vertical-align: top;\n",
       "    }\n",
       "\n",
       "    .dataframe thead th {\n",
       "        text-align: right;\n",
       "    }\n",
       "</style>\n",
       "<table border=\"1\" class=\"dataframe\">\n",
       "  <thead>\n",
       "    <tr style=\"text-align: right;\">\n",
       "      <th></th>\n",
       "      <th>gender</th>\n",
       "      <th>ever_married</th>\n",
       "      <th>work_type</th>\n",
       "      <th>Residence_type</th>\n",
       "      <th>smoking_status</th>\n",
       "      <th>id</th>\n",
       "      <th>age</th>\n",
       "      <th>hypertension</th>\n",
       "      <th>heart_disease</th>\n",
       "      <th>avg_glucose_level</th>\n",
       "      <th>bmi</th>\n",
       "    </tr>\n",
       "  </thead>\n",
       "  <tbody>\n",
       "    <tr>\n",
       "      <th>1</th>\n",
       "      <td>1</td>\n",
       "      <td>1</td>\n",
       "      <td>2</td>\n",
       "      <td>1</td>\n",
       "      <td>1</td>\n",
       "      <td>30468</td>\n",
       "      <td>58.0</td>\n",
       "      <td>1</td>\n",
       "      <td>0</td>\n",
       "      <td>87.96</td>\n",
       "      <td>39.2</td>\n",
       "    </tr>\n",
       "    <tr>\n",
       "      <th>3</th>\n",
       "      <td>0</td>\n",
       "      <td>1</td>\n",
       "      <td>2</td>\n",
       "      <td>0</td>\n",
       "      <td>0</td>\n",
       "      <td>56543</td>\n",
       "      <td>70.0</td>\n",
       "      <td>0</td>\n",
       "      <td>0</td>\n",
       "      <td>69.04</td>\n",
       "      <td>35.9</td>\n",
       "    </tr>\n",
       "    <tr>\n",
       "      <th>6</th>\n",
       "      <td>0</td>\n",
       "      <td>1</td>\n",
       "      <td>2</td>\n",
       "      <td>1</td>\n",
       "      <td>0</td>\n",
       "      <td>52800</td>\n",
       "      <td>52.0</td>\n",
       "      <td>0</td>\n",
       "      <td>0</td>\n",
       "      <td>77.59</td>\n",
       "      <td>17.7</td>\n",
       "    </tr>\n",
       "    <tr>\n",
       "      <th>7</th>\n",
       "      <td>0</td>\n",
       "      <td>1</td>\n",
       "      <td>3</td>\n",
       "      <td>0</td>\n",
       "      <td>1</td>\n",
       "      <td>41413</td>\n",
       "      <td>75.0</td>\n",
       "      <td>0</td>\n",
       "      <td>1</td>\n",
       "      <td>243.53</td>\n",
       "      <td>27.0</td>\n",
       "    </tr>\n",
       "    <tr>\n",
       "      <th>8</th>\n",
       "      <td>0</td>\n",
       "      <td>1</td>\n",
       "      <td>2</td>\n",
       "      <td>0</td>\n",
       "      <td>2</td>\n",
       "      <td>15266</td>\n",
       "      <td>32.0</td>\n",
       "      <td>0</td>\n",
       "      <td>0</td>\n",
       "      <td>77.67</td>\n",
       "      <td>32.3</td>\n",
       "    </tr>\n",
       "  </tbody>\n",
       "</table>\n",
       "</div>"
      ],
      "text/plain": [
       "   gender  ever_married  work_type  Residence_type  smoking_status     id  \\\n",
       "1       1             1          2               1               1  30468   \n",
       "3       0             1          2               0               0  56543   \n",
       "6       0             1          2               1               0  52800   \n",
       "7       0             1          3               0               1  41413   \n",
       "8       0             1          2               0               2  15266   \n",
       "\n",
       "    age  hypertension  heart_disease  avg_glucose_level   bmi  \n",
       "1  58.0             1              0              87.96  39.2  \n",
       "3  70.0             0              0              69.04  35.9  \n",
       "6  52.0             0              0              77.59  17.7  \n",
       "7  75.0             0              1             243.53  27.0  \n",
       "8  32.0             0              0              77.67  32.3  "
      ]
     },
     "execution_count": 25,
     "metadata": {},
     "output_type": "execute_result"
    }
   ],
   "source": [
    "#split it into target and feature\n",
    "ytrain = features['stroke']\n",
    "xtrain = features.drop(['stroke'],axis =1)\n",
    "xtrain.head()"
   ]
  },
  {
   "cell_type": "code",
   "execution_count": 26,
   "id": "9320859d",
   "metadata": {
    "execution": {
     "iopub.execute_input": "2022-05-13T08:46:52.379463Z",
     "iopub.status.busy": "2022-05-13T08:46:52.378954Z",
     "iopub.status.idle": "2022-05-13T08:46:52.453780Z",
     "shell.execute_reply": "2022-05-13T08:46:52.452686Z"
    },
    "papermill": {
     "duration": 0.150542,
     "end_time": "2022-05-13T08:46:52.456625",
     "exception": false,
     "start_time": "2022-05-13T08:46:52.306083",
     "status": "completed"
    },
    "tags": []
   },
   "outputs": [
    {
     "name": "stdout",
     "output_type": "stream",
     "text": [
      "(22581, 11) (22581,) (7527, 11) (7527,)\n"
     ]
    }
   ],
   "source": [
    "from sklearn.model_selection import train_test_split\n",
    "x_train, x_test, y_train, y_test = train_test_split(xtrain,ytrain)\n",
    "print(x_train.shape,y_train.shape,x_test.shape,y_test.shape)\n"
   ]
  },
  {
   "cell_type": "code",
   "execution_count": 27,
   "id": "61b3c9f9",
   "metadata": {
    "execution": {
     "iopub.execute_input": "2022-05-13T08:46:52.600513Z",
     "iopub.status.busy": "2022-05-13T08:46:52.600243Z",
     "iopub.status.idle": "2022-05-13T08:46:52.606169Z",
     "shell.execute_reply": "2022-05-13T08:46:52.605525Z"
    },
    "papermill": {
     "duration": 0.079692,
     "end_time": "2022-05-13T08:46:52.607915",
     "exception": false,
     "start_time": "2022-05-13T08:46:52.528223",
     "status": "completed"
    },
    "tags": []
   },
   "outputs": [
    {
     "data": {
      "text/plain": [
       "33374    0\n",
       "8225     0\n",
       "5935     0\n",
       "35841    0\n",
       "14463    0\n",
       "Name: stroke, dtype: int64"
      ]
     },
     "execution_count": 27,
     "metadata": {},
     "output_type": "execute_result"
    }
   ],
   "source": [
    "y_test.head()"
   ]
  },
  {
   "cell_type": "markdown",
   "id": "8f611b25",
   "metadata": {
    "papermill": {
     "duration": 0.070292,
     "end_time": "2022-05-13T08:46:52.748869",
     "exception": false,
     "start_time": "2022-05-13T08:46:52.678577",
     "status": "completed"
    },
    "tags": []
   },
   "source": [
    "applying different models \n",
    "\n",
    "naive bayes"
   ]
  },
  {
   "cell_type": "code",
   "execution_count": 28,
   "id": "dcba0adf",
   "metadata": {
    "execution": {
     "iopub.execute_input": "2022-05-13T08:46:52.891018Z",
     "iopub.status.busy": "2022-05-13T08:46:52.890443Z",
     "iopub.status.idle": "2022-05-13T08:46:52.915279Z",
     "shell.execute_reply": "2022-05-13T08:46:52.913680Z"
    },
    "papermill": {
     "duration": 0.098879,
     "end_time": "2022-05-13T08:46:52.917725",
     "exception": false,
     "start_time": "2022-05-13T08:46:52.818846",
     "status": "completed"
    },
    "tags": []
   },
   "outputs": [
    {
     "name": "stdout",
     "output_type": "stream",
     "text": [
      "[0 0 0 ... 0 0 0]\n",
      "naive bayes test accuracy :  97.24990035870866\n"
     ]
    }
   ],
   "source": [
    "from sklearn.naive_bayes import GaussianNB \n",
    "\n",
    "nb = GaussianNB()\n",
    "model1 = nb.fit(x_train,y_train)\n",
    "predict = nb.predict(x_test)\n",
    "print(predict)\n",
    "test_score= model1.score(x_test,y_test)\n",
    "print(\"naive bayes test accuracy : \",test_score*100)\n"
   ]
  },
  {
   "cell_type": "code",
   "execution_count": 29,
   "id": "b5fad7f8",
   "metadata": {
    "execution": {
     "iopub.execute_input": "2022-05-13T08:46:53.062618Z",
     "iopub.status.busy": "2022-05-13T08:46:53.062354Z",
     "iopub.status.idle": "2022-05-13T08:46:53.081786Z",
     "shell.execute_reply": "2022-05-13T08:46:53.081168Z"
    },
    "papermill": {
     "duration": 0.093763,
     "end_time": "2022-05-13T08:46:53.083699",
     "exception": false,
     "start_time": "2022-05-13T08:46:52.989936",
     "status": "completed"
    },
    "tags": []
   },
   "outputs": [
    {
     "data": {
      "text/html": [
       "<div>\n",
       "<style scoped>\n",
       "    .dataframe tbody tr th:only-of-type {\n",
       "        vertical-align: middle;\n",
       "    }\n",
       "\n",
       "    .dataframe tbody tr th {\n",
       "        vertical-align: top;\n",
       "    }\n",
       "\n",
       "    .dataframe thead th {\n",
       "        text-align: right;\n",
       "    }\n",
       "</style>\n",
       "<table border=\"1\" class=\"dataframe\">\n",
       "  <thead>\n",
       "    <tr style=\"text-align: right;\">\n",
       "      <th>col_0</th>\n",
       "      <th>0</th>\n",
       "      <th>1</th>\n",
       "    </tr>\n",
       "    <tr>\n",
       "      <th>stroke</th>\n",
       "      <th></th>\n",
       "      <th></th>\n",
       "    </tr>\n",
       "  </thead>\n",
       "  <tbody>\n",
       "    <tr>\n",
       "      <th>0</th>\n",
       "      <td>7312</td>\n",
       "      <td>49</td>\n",
       "    </tr>\n",
       "    <tr>\n",
       "      <th>1</th>\n",
       "      <td>158</td>\n",
       "      <td>8</td>\n",
       "    </tr>\n",
       "  </tbody>\n",
       "</table>\n",
       "</div>"
      ],
      "text/plain": [
       "col_0      0   1\n",
       "stroke          \n",
       "0       7312  49\n",
       "1        158   8"
      ]
     },
     "execution_count": 29,
     "metadata": {},
     "output_type": "execute_result"
    }
   ],
   "source": [
    "# confusion matrix \n",
    "conf_mat = pd.crosstab(y_test,predict)\n",
    "conf_mat"
   ]
  },
  {
   "cell_type": "code",
   "execution_count": 30,
   "id": "0a4e558f",
   "metadata": {
    "execution": {
     "iopub.execute_input": "2022-05-13T08:46:53.229060Z",
     "iopub.status.busy": "2022-05-13T08:46:53.228497Z",
     "iopub.status.idle": "2022-05-13T08:46:53.245953Z",
     "shell.execute_reply": "2022-05-13T08:46:53.245197Z"
    },
    "papermill": {
     "duration": 0.092398,
     "end_time": "2022-05-13T08:46:53.248451",
     "exception": false,
     "start_time": "2022-05-13T08:46:53.156053",
     "status": "completed"
    },
    "tags": []
   },
   "outputs": [
    {
     "name": "stdout",
     "output_type": "stream",
     "text": [
      "              precision    recall  f1-score   support\n",
      "\n",
      "           0       0.98      0.99      0.99      7361\n",
      "           1       0.14      0.05      0.07       166\n",
      "\n",
      "    accuracy                           0.97      7527\n",
      "   macro avg       0.56      0.52      0.53      7527\n",
      "weighted avg       0.96      0.97      0.97      7527\n",
      "\n"
     ]
    }
   ],
   "source": [
    "#classification report for naive bayes \n",
    "from sklearn.metrics import classification_report\n",
    "report =classification_report(y_test, predict)\n",
    "print(report)\n"
   ]
  },
  {
   "cell_type": "markdown",
   "id": "eee4a110",
   "metadata": {
    "papermill": {
     "duration": 0.070883,
     "end_time": "2022-05-13T08:46:53.391722",
     "exception": false,
     "start_time": "2022-05-13T08:46:53.320839",
     "status": "completed"
    },
    "tags": []
   },
   "source": [
    "decision tree"
   ]
  },
  {
   "cell_type": "code",
   "execution_count": 31,
   "id": "81a7effc",
   "metadata": {
    "execution": {
     "iopub.execute_input": "2022-05-13T08:46:53.536843Z",
     "iopub.status.busy": "2022-05-13T08:46:53.536256Z",
     "iopub.status.idle": "2022-05-13T08:46:53.793882Z",
     "shell.execute_reply": "2022-05-13T08:46:53.792574Z"
    },
    "papermill": {
     "duration": 0.333536,
     "end_time": "2022-05-13T08:46:53.796504",
     "exception": false,
     "start_time": "2022-05-13T08:46:53.462968",
     "status": "completed"
    },
    "tags": []
   },
   "outputs": [
    {
     "name": "stdout",
     "output_type": "stream",
     "text": [
      "decision tree testing score is :  97.48903945795138\n",
      "              precision    recall  f1-score   support\n",
      "\n",
      "           0       0.98      1.00      0.99      7361\n",
      "           1       0.00      0.00      0.00       166\n",
      "\n",
      "    accuracy                           0.97      7527\n",
      "   macro avg       0.49      0.50      0.49      7527\n",
      "weighted avg       0.96      0.97      0.97      7527\n",
      "\n"
     ]
    }
   ],
   "source": [
    "from sklearn.tree import DecisionTreeClassifier\n",
    "dtc =  DecisionTreeClassifier(max_depth = 8)\n",
    "model2 = dtc.fit(x_train,y_train)\n",
    "predict = dtc.predict(x_test)\n",
    "test_score = model2.score(x_test, y_test)\n",
    "print(\"decision tree testing score is : \",test_score*100)\n",
    "\n",
    "#classification report \n",
    "report2  = classification_report(y_test,predict)\n",
    "print(report2)\n"
   ]
  },
  {
   "cell_type": "markdown",
   "id": "057c6776",
   "metadata": {
    "papermill": {
     "duration": 0.072436,
     "end_time": "2022-05-13T08:46:53.940848",
     "exception": false,
     "start_time": "2022-05-13T08:46:53.868412",
     "status": "completed"
    },
    "tags": []
   },
   "source": [
    "logistic regression classifier "
   ]
  },
  {
   "cell_type": "code",
   "execution_count": 32,
   "id": "303fa89f",
   "metadata": {
    "execution": {
     "iopub.execute_input": "2022-05-13T08:46:54.108623Z",
     "iopub.status.busy": "2022-05-13T08:46:54.107639Z",
     "iopub.status.idle": "2022-05-13T08:46:54.438626Z",
     "shell.execute_reply": "2022-05-13T08:46:54.437740Z"
    },
    "papermill": {
     "duration": 0.419322,
     "end_time": "2022-05-13T08:46:54.441398",
     "exception": false,
     "start_time": "2022-05-13T08:46:54.022076",
     "status": "completed"
    },
    "tags": []
   },
   "outputs": [
    {
     "name": "stdout",
     "output_type": "stream",
     "text": [
      "[0 0 0 ... 0 0 0]\n",
      "logistic regression model score is : 97.79460608476153\n",
      "              precision    recall  f1-score   support\n",
      "\n",
      "           0       0.98      1.00      0.99      7361\n",
      "           1       0.00      0.00      0.00       166\n",
      "\n",
      "    accuracy                           0.98      7527\n",
      "   macro avg       0.49      0.50      0.49      7527\n",
      "weighted avg       0.96      0.98      0.97      7527\n",
      "\n",
      "confusion matrix is \n",
      "col_0      0\n",
      "stroke      \n",
      "0       7361\n",
      "1        166\n"
     ]
    },
    {
     "name": "stderr",
     "output_type": "stream",
     "text": [
      "/opt/conda/lib/python3.7/site-packages/sklearn/metrics/_classification.py:1318: UndefinedMetricWarning: Precision and F-score are ill-defined and being set to 0.0 in labels with no predicted samples. Use `zero_division` parameter to control this behavior.\n",
      "  _warn_prf(average, modifier, msg_start, len(result))\n",
      "/opt/conda/lib/python3.7/site-packages/sklearn/metrics/_classification.py:1318: UndefinedMetricWarning: Precision and F-score are ill-defined and being set to 0.0 in labels with no predicted samples. Use `zero_division` parameter to control this behavior.\n",
      "  _warn_prf(average, modifier, msg_start, len(result))\n",
      "/opt/conda/lib/python3.7/site-packages/sklearn/metrics/_classification.py:1318: UndefinedMetricWarning: Precision and F-score are ill-defined and being set to 0.0 in labels with no predicted samples. Use `zero_division` parameter to control this behavior.\n",
      "  _warn_prf(average, modifier, msg_start, len(result))\n"
     ]
    }
   ],
   "source": [
    "from sklearn.linear_model import LogisticRegression\n",
    "logreg = LogisticRegression()\n",
    "model3 = logreg.fit(x_train,y_train)\n",
    "\n",
    "predict = model3.predict(x_test)\n",
    "print(predict)\n",
    "\n",
    "modelscore = model3.score(x_test,y_test)\n",
    "print('logistic regression model score is :' ,modelscore*100 )\n",
    "\n",
    "# classification report\n",
    "\n",
    "clfrep = classification_report(y_test, predict)\n",
    "print(clfrep)\n",
    "\n",
    "#conf matrix \n",
    "print(\"confusion matrix is \")\n",
    "lrcon_mat = pd.crosstab(y_test, predict)\n",
    "print(lrcon_mat)"
   ]
  },
  {
   "cell_type": "markdown",
   "id": "30a8f75b",
   "metadata": {
    "papermill": {
     "duration": 0.072856,
     "end_time": "2022-05-13T08:46:54.616472",
     "exception": false,
     "start_time": "2022-05-13T08:46:54.543616",
     "status": "completed"
    },
    "tags": []
   },
   "source": [
    "random forest classifier"
   ]
  },
  {
   "cell_type": "code",
   "execution_count": 33,
   "id": "8a514bb3",
   "metadata": {
    "execution": {
     "iopub.execute_input": "2022-05-13T08:46:54.763792Z",
     "iopub.status.busy": "2022-05-13T08:46:54.763519Z",
     "iopub.status.idle": "2022-05-13T08:46:57.372274Z",
     "shell.execute_reply": "2022-05-13T08:46:57.371354Z"
    },
    "papermill": {
     "duration": 2.685213,
     "end_time": "2022-05-13T08:46:57.374651",
     "exception": false,
     "start_time": "2022-05-13T08:46:54.689438",
     "status": "completed"
    },
    "tags": []
   },
   "outputs": [
    {
     "name": "stdout",
     "output_type": "stream",
     "text": [
      "[0 0 0 ... 0 0 0]\n",
      "random forest model score is : 97.79460608476153\n",
      "              precision    recall  f1-score   support\n",
      "\n",
      "           0       0.98      1.00      0.99      7361\n",
      "           1       0.00      0.00      0.00       166\n",
      "\n",
      "    accuracy                           0.98      7527\n",
      "   macro avg       0.49      0.50      0.49      7527\n",
      "weighted avg       0.96      0.98      0.97      7527\n",
      "\n",
      "confusion matrix is \n",
      "col_0      0\n",
      "stroke      \n",
      "0       7361\n",
      "1        166\n"
     ]
    },
    {
     "name": "stderr",
     "output_type": "stream",
     "text": [
      "/opt/conda/lib/python3.7/site-packages/sklearn/metrics/_classification.py:1318: UndefinedMetricWarning: Precision and F-score are ill-defined and being set to 0.0 in labels with no predicted samples. Use `zero_division` parameter to control this behavior.\n",
      "  _warn_prf(average, modifier, msg_start, len(result))\n",
      "/opt/conda/lib/python3.7/site-packages/sklearn/metrics/_classification.py:1318: UndefinedMetricWarning: Precision and F-score are ill-defined and being set to 0.0 in labels with no predicted samples. Use `zero_division` parameter to control this behavior.\n",
      "  _warn_prf(average, modifier, msg_start, len(result))\n",
      "/opt/conda/lib/python3.7/site-packages/sklearn/metrics/_classification.py:1318: UndefinedMetricWarning: Precision and F-score are ill-defined and being set to 0.0 in labels with no predicted samples. Use `zero_division` parameter to control this behavior.\n",
      "  _warn_prf(average, modifier, msg_start, len(result))\n"
     ]
    }
   ],
   "source": [
    "from sklearn.ensemble import RandomForestClassifier\n",
    "rf = RandomForestClassifier()\n",
    "model4 = rf.fit(x_train,y_train)\n",
    "\n",
    "predict = model4.predict(x_test)\n",
    "print(predict)\n",
    "\n",
    "modelscore = model4.score(x_test,y_test)\n",
    "print('random forest model score is :' ,modelscore*100 )\n",
    "\n",
    "# classification report\n",
    "\n",
    "rfcr = classification_report(y_test, predict)\n",
    "print(rfcr)\n",
    "\n",
    "#conf matrix \n",
    "print(\"confusion matrix is \")\n",
    "rfcon_mat = pd.crosstab(y_test, predict)\n",
    "print(rfcon_mat)"
   ]
  },
  {
   "cell_type": "markdown",
   "id": "2dc44320",
   "metadata": {
    "papermill": {
     "duration": 0.074208,
     "end_time": "2022-05-13T08:46:57.522756",
     "exception": false,
     "start_time": "2022-05-13T08:46:57.448548",
     "status": "completed"
    },
    "tags": []
   },
   "source": [
    "checking cross validation score for each models \n"
   ]
  },
  {
   "cell_type": "code",
   "execution_count": 34,
   "id": "1703bce6",
   "metadata": {
    "execution": {
     "iopub.execute_input": "2022-05-13T08:46:57.672066Z",
     "iopub.status.busy": "2022-05-13T08:46:57.671533Z",
     "iopub.status.idle": "2022-05-13T08:46:57.917998Z",
     "shell.execute_reply": "2022-05-13T08:46:57.916827Z"
    },
    "papermill": {
     "duration": 0.324125,
     "end_time": "2022-05-13T08:46:57.920830",
     "exception": false,
     "start_time": "2022-05-13T08:46:57.596705",
     "status": "completed"
    },
    "tags": []
   },
   "outputs": [
    {
     "name": "stdout",
     "output_type": "stream",
     "text": [
      "naive bayes cross validation score is :  0.9736505404579194\n"
     ]
    }
   ],
   "source": [
    "from sklearn.model_selection import cross_val_score\n",
    "val_score = cross_val_score(model1,x_train,y_train,cv =20,scoring ='accuracy').mean()\n",
    "print(\"naive bayes cross validation score is : \" , val_score)"
   ]
  },
  {
   "cell_type": "code",
   "execution_count": 35,
   "id": "17cd0dfc",
   "metadata": {
    "execution": {
     "iopub.execute_input": "2022-05-13T08:46:58.074367Z",
     "iopub.status.busy": "2022-05-13T08:46:58.074092Z",
     "iopub.status.idle": "2022-05-13T08:46:59.562743Z",
     "shell.execute_reply": "2022-05-13T08:46:59.561298Z"
    },
    "papermill": {
     "duration": 1.569334,
     "end_time": "2022-05-13T08:46:59.565906",
     "exception": false,
     "start_time": "2022-05-13T08:46:57.996572",
     "status": "completed"
    },
    "tags": []
   },
   "outputs": [
    {
     "name": "stdout",
     "output_type": "stream",
     "text": [
      "decision tree cross validation score is :  0.9753776150873591\n"
     ]
    }
   ],
   "source": [
    "val_score = cross_val_score(model2,x_train,y_train,cv =20,scoring ='accuracy').mean()\n",
    "print(\"decision tree cross validation score is : \" , val_score)"
   ]
  },
  {
   "cell_type": "code",
   "execution_count": 36,
   "id": "4f08dabf",
   "metadata": {
    "execution": {
     "iopub.execute_input": "2022-05-13T08:46:59.717397Z",
     "iopub.status.busy": "2022-05-13T08:46:59.716468Z",
     "iopub.status.idle": "2022-05-13T08:47:01.874229Z",
     "shell.execute_reply": "2022-05-13T08:47:01.873406Z"
    },
    "papermill": {
     "duration": 2.237468,
     "end_time": "2022-05-13T08:47:01.877679",
     "exception": false,
     "start_time": "2022-05-13T08:46:59.640211",
     "status": "completed"
    },
    "tags": []
   },
   "outputs": [
    {
     "name": "stderr",
     "output_type": "stream",
     "text": [
      "/opt/conda/lib/python3.7/site-packages/sklearn/linear_model/_logistic.py:818: ConvergenceWarning: lbfgs failed to converge (status=1):\n",
      "STOP: TOTAL NO. of ITERATIONS REACHED LIMIT.\n",
      "\n",
      "Increase the number of iterations (max_iter) or scale the data as shown in:\n",
      "    https://scikit-learn.org/stable/modules/preprocessing.html\n",
      "Please also refer to the documentation for alternative solver options:\n",
      "    https://scikit-learn.org/stable/modules/linear_model.html#logistic-regression\n",
      "  extra_warning_msg=_LOGISTIC_SOLVER_CONVERGENCE_MSG,\n",
      "/opt/conda/lib/python3.7/site-packages/sklearn/linear_model/_logistic.py:818: ConvergenceWarning: lbfgs failed to converge (status=1):\n",
      "STOP: TOTAL NO. of ITERATIONS REACHED LIMIT.\n",
      "\n",
      "Increase the number of iterations (max_iter) or scale the data as shown in:\n",
      "    https://scikit-learn.org/stable/modules/preprocessing.html\n",
      "Please also refer to the documentation for alternative solver options:\n",
      "    https://scikit-learn.org/stable/modules/linear_model.html#logistic-regression\n",
      "  extra_warning_msg=_LOGISTIC_SOLVER_CONVERGENCE_MSG,\n"
     ]
    },
    {
     "name": "stdout",
     "output_type": "stream",
     "text": [
      "logistic regression cross validation score is :  0.9790531996607605\n"
     ]
    }
   ],
   "source": [
    "val_score = cross_val_score(model3,x_train,y_train,cv =10,scoring ='accuracy').mean()\n",
    "print(\"logistic regression cross validation score is : \" , val_score)"
   ]
  },
  {
   "cell_type": "code",
   "execution_count": 37,
   "id": "73bfc5c1",
   "metadata": {
    "execution": {
     "iopub.execute_input": "2022-05-13T08:47:02.083634Z",
     "iopub.status.busy": "2022-05-13T08:47:02.083364Z",
     "iopub.status.idle": "2022-05-13T08:47:45.895597Z",
     "shell.execute_reply": "2022-05-13T08:47:45.894542Z"
    },
    "papermill": {
     "duration": 43.966368,
     "end_time": "2022-05-13T08:47:45.972618",
     "exception": false,
     "start_time": "2022-05-13T08:47:02.006250",
     "status": "completed"
    },
    "tags": []
   },
   "outputs": [
    {
     "name": "stdout",
     "output_type": "stream",
     "text": [
      "random forest cross validation score is :  0.979097486224006\n"
     ]
    }
   ],
   "source": [
    "val_score = cross_val_score(model4,x_train,y_train,cv =20,scoring ='accuracy').mean()\n",
    "print(\"random forest cross validation score is : \" , val_score)"
   ]
  },
  {
   "cell_type": "markdown",
   "id": "d6b206ca",
   "metadata": {
    "papermill": {
     "duration": 0.075176,
     "end_time": "2022-05-13T08:47:46.122963",
     "exception": false,
     "start_time": "2022-05-13T08:47:46.047787",
     "status": "completed"
    },
    "tags": []
   },
   "source": [
    "PCA analysis \n"
   ]
  },
  {
   "cell_type": "code",
   "execution_count": 38,
   "id": "76ea0d93",
   "metadata": {
    "execution": {
     "iopub.execute_input": "2022-05-13T08:47:46.276964Z",
     "iopub.status.busy": "2022-05-13T08:47:46.276424Z",
     "iopub.status.idle": "2022-05-13T08:47:46.416318Z",
     "shell.execute_reply": "2022-05-13T08:47:46.415326Z"
    },
    "papermill": {
     "duration": 0.219942,
     "end_time": "2022-05-13T08:47:46.419336",
     "exception": false,
     "start_time": "2022-05-13T08:47:46.199394",
     "status": "completed"
    },
    "tags": []
   },
   "outputs": [
    {
     "data": {
      "text/plain": [
       "(30108, 11)"
      ]
     },
     "execution_count": 38,
     "metadata": {},
     "output_type": "execute_result"
    }
   ],
   "source": [
    "from sklearn.decomposition import PCA\n",
    "pca =PCA(n_components =4)\n",
    "principalcomponent = pca.fit_transform(xtrain)\n",
    "xtrain.shape"
   ]
  },
  {
   "cell_type": "code",
   "execution_count": 39,
   "id": "043343a9",
   "metadata": {
    "execution": {
     "iopub.execute_input": "2022-05-13T08:47:46.635802Z",
     "iopub.status.busy": "2022-05-13T08:47:46.635528Z",
     "iopub.status.idle": "2022-05-13T08:47:46.807894Z",
     "shell.execute_reply": "2022-05-13T08:47:46.807061Z"
    },
    "papermill": {
     "duration": 0.25385,
     "end_time": "2022-05-13T08:47:46.810199",
     "exception": false,
     "start_time": "2022-05-13T08:47:46.556349",
     "status": "completed"
    },
    "tags": []
   },
   "outputs": [
    {
     "name": "stdout",
     "output_type": "stream",
     "text": [
      "0.9736946990833001\n",
      "cross val score =  0.9735950793932767\n"
     ]
    }
   ],
   "source": [
    "x_train, x_test, y_train, y_test = train_test_split(xtrain,ytrain)\n",
    "\n",
    "#for naive bayes \n",
    "\n",
    "model1 = GaussianNB()\n",
    "model1.fit(x_train,y_train)\n",
    "predict1 = model1.predict(x_test)\n",
    "\n",
    "score = model1.score(x_test,y_test)\n",
    "print(score)\n",
    "\n",
    "cross_val_score = cross_val_score(model1,xtrain,ytrain, cv = 10,scoring ='accuracy').mean()\n",
    "print(\"cross val score = \" , cross_val_score)"
   ]
  },
  {
   "cell_type": "code",
   "execution_count": 40,
   "id": "6e97453c",
   "metadata": {
    "execution": {
     "iopub.execute_input": "2022-05-13T08:47:46.966023Z",
     "iopub.status.busy": "2022-05-13T08:47:46.965080Z",
     "iopub.status.idle": "2022-05-13T08:47:47.213251Z",
     "shell.execute_reply": "2022-05-13T08:47:47.212017Z"
    },
    "papermill": {
     "duration": 0.328432,
     "end_time": "2022-05-13T08:47:47.215716",
     "exception": true,
     "start_time": "2022-05-13T08:47:46.887284",
     "status": "failed"
    },
    "tags": []
   },
   "outputs": [
    {
     "name": "stdout",
     "output_type": "stream",
     "text": [
      "0.9554935565298259\n"
     ]
    },
    {
     "ename": "TypeError",
     "evalue": "'numpy.float64' object is not callable",
     "output_type": "error",
     "traceback": [
      "\u001b[0;31m---------------------------------------------------------------------------\u001b[0m",
      "\u001b[0;31mTypeError\u001b[0m                                 Traceback (most recent call last)",
      "\u001b[0;32m/tmp/ipykernel_18/528770826.py\u001b[0m in \u001b[0;36m<module>\u001b[0;34m\u001b[0m\n\u001b[1;32m      6\u001b[0m \u001b[0mprint\u001b[0m\u001b[0;34m(\u001b[0m\u001b[0mscore\u001b[0m\u001b[0;34m)\u001b[0m\u001b[0;34m\u001b[0m\u001b[0;34m\u001b[0m\u001b[0m\n\u001b[1;32m      7\u001b[0m \u001b[0;34m\u001b[0m\u001b[0m\n\u001b[0;32m----> 8\u001b[0;31m \u001b[0mcross_val_score\u001b[0m \u001b[0;34m=\u001b[0m \u001b[0mcross_val_score\u001b[0m\u001b[0;34m(\u001b[0m\u001b[0mmodel2\u001b[0m\u001b[0;34m,\u001b[0m\u001b[0mxtrain\u001b[0m\u001b[0;34m,\u001b[0m\u001b[0mytrain\u001b[0m\u001b[0;34m,\u001b[0m \u001b[0mcv\u001b[0m \u001b[0;34m=\u001b[0m \u001b[0;36m10\u001b[0m\u001b[0;34m,\u001b[0m\u001b[0mscoring\u001b[0m \u001b[0;34m=\u001b[0m\u001b[0;34m'accuracy'\u001b[0m\u001b[0;34m)\u001b[0m\u001b[0;34m.\u001b[0m\u001b[0mmean\u001b[0m\u001b[0;34m(\u001b[0m\u001b[0;34m)\u001b[0m\u001b[0;34m\u001b[0m\u001b[0;34m\u001b[0m\u001b[0m\n\u001b[0m\u001b[1;32m      9\u001b[0m \u001b[0mprint\u001b[0m\u001b[0;34m(\u001b[0m\u001b[0;34m\"cross val score = \"\u001b[0m \u001b[0;34m,\u001b[0m \u001b[0mcross_val_score\u001b[0m\u001b[0;34m)\u001b[0m\u001b[0;34m\u001b[0m\u001b[0;34m\u001b[0m\u001b[0m\n",
      "\u001b[0;31mTypeError\u001b[0m: 'numpy.float64' object is not callable"
     ]
    }
   ],
   "source": [
    "#for decision tree \n",
    "model2 = DecisionTreeClassifier()\n",
    "model2.fit(x_train,y_train)\n",
    "predict2 = model2.predict(x_test)\n",
    "score = model2.score(x_test,y_test)\n",
    "print(score)\n",
    "\n",
    "cross_val_score = cross_val_score(model2,xtrain,ytrain, cv = 10,scoring ='accuracy').mean()\n",
    "print(\"cross val score = \" , cross_val_score)"
   ]
  },
  {
   "cell_type": "code",
   "execution_count": null,
   "id": "7202bcf5",
   "metadata": {
    "execution": {
     "iopub.status.busy": "2022-05-13T08:45:41.971783Z",
     "iopub.status.idle": "2022-05-13T08:45:41.972320Z",
     "shell.execute_reply": "2022-05-13T08:45:41.972172Z",
     "shell.execute_reply.started": "2022-05-13T08:45:41.972154Z"
    },
    "papermill": {
     "duration": null,
     "end_time": null,
     "exception": null,
     "start_time": null,
     "status": "pending"
    },
    "tags": []
   },
   "outputs": [],
   "source": [
    "#for logistic regression\n",
    "model3 = LogisticRegression()\n",
    "model3.fit(x_train,y_train)\n",
    "predict3 = model3.predict(x_test)\n",
    "score = model3.score(x_test,y_test)\n",
    "print(score)\n"
   ]
  },
  {
   "cell_type": "code",
   "execution_count": null,
   "id": "031be471",
   "metadata": {
    "execution": {
     "iopub.status.busy": "2022-05-13T08:45:41.973538Z",
     "iopub.status.idle": "2022-05-13T08:45:41.974280Z",
     "shell.execute_reply": "2022-05-13T08:45:41.974093Z",
     "shell.execute_reply.started": "2022-05-13T08:45:41.974069Z"
    },
    "papermill": {
     "duration": null,
     "end_time": null,
     "exception": null,
     "start_time": null,
     "status": "pending"
    },
    "tags": []
   },
   "outputs": [],
   "source": [
    "cross_val_score = cross_val_score(model3,xtrain,ytrain, cv = 10,scoring ='accuracy').mean()\n",
    "print(\"cross val score = \" , cross_val_score)"
   ]
  },
  {
   "cell_type": "code",
   "execution_count": null,
   "id": "20f7ae4e",
   "metadata": {
    "execution": {
     "iopub.status.busy": "2022-05-13T08:45:41.975416Z",
     "iopub.status.idle": "2022-05-13T08:45:41.976039Z",
     "shell.execute_reply": "2022-05-13T08:45:41.975800Z",
     "shell.execute_reply.started": "2022-05-13T08:45:41.975776Z"
    },
    "papermill": {
     "duration": null,
     "end_time": null,
     "exception": null,
     "start_time": null,
     "status": "pending"
    },
    "tags": []
   },
   "outputs": [],
   "source": [
    "#for random forest\n",
    "model4 = RandomForestClassifier()\n",
    "model4.fit(x_train,y_train)\n",
    "predict4 = model4.predict(x_test)\n",
    "score = model4.score(x_test,y_test)\n",
    "print(score)\n",
    "cross_val_score = cross_val_score(model4,xtrain,ytrain, cv = 20,scoring ='accuracy').mean()\n",
    "print(\"cross val score = \" , cross_val_score)"
   ]
  },
  {
   "cell_type": "markdown",
   "id": "4a5c7d68",
   "metadata": {
    "papermill": {
     "duration": null,
     "end_time": null,
     "exception": null,
     "start_time": null,
     "status": "pending"
    },
    "tags": []
   },
   "source": []
  },
  {
   "cell_type": "markdown",
   "id": "b9c68f2b",
   "metadata": {
    "papermill": {
     "duration": null,
     "end_time": null,
     "exception": null,
     "start_time": null,
     "status": "pending"
    },
    "tags": []
   },
   "source": []
  }
 ],
 "metadata": {
  "kernelspec": {
   "display_name": "Python 3",
   "language": "python",
   "name": "python3"
  },
  "language_info": {
   "codemirror_mode": {
    "name": "ipython",
    "version": 3
   },
   "file_extension": ".py",
   "mimetype": "text/x-python",
   "name": "python",
   "nbconvert_exporter": "python",
   "pygments_lexer": "ipython3",
   "version": "3.7.12"
  },
  "papermill": {
   "default_parameters": {},
   "duration": 74.811881,
   "end_time": "2022-05-13T08:47:48.114928",
   "environment_variables": {},
   "exception": true,
   "input_path": "__notebook__.ipynb",
   "output_path": "__notebook__.ipynb",
   "parameters": {},
   "start_time": "2022-05-13T08:46:33.303047",
   "version": "2.3.4"
  }
 },
 "nbformat": 4,
 "nbformat_minor": 5
}
